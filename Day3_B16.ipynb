{
 "cells": [
  {
   "cell_type": "code",
   "execution_count": 12,
   "metadata": {},
   "outputs": [
    {
     "name": "stdout",
     "output_type": "stream",
     "text": [
      "monish kumar k\n"
     ]
    }
   ],
   "source": [
    "first_name = 'monish'\n",
    "middle_name = 'kumar'\n",
    "last_name = 'k'\n",
    "\n",
    "full_name = f\"{first_name} {middle_name} {last_name}\"\n",
    "\n",
    "print (full_name)"
   ]
  },
  {
   "cell_type": "code",
   "execution_count": 13,
   "metadata": {},
   "outputs": [
    {
     "name": "stdout",
     "output_type": "stream",
     "text": [
      "Monish Kumar K\n"
     ]
    }
   ],
   "source": [
    "print(full_name.title())"
   ]
  },
  {
   "cell_type": "code",
   "execution_count": 14,
   "metadata": {},
   "outputs": [
    {
     "name": "stdout",
     "output_type": "stream",
     "text": [
      "Wish you a very happy rama navami , Monish Kumar K\n"
     ]
    }
   ],
   "source": [
    "send_sms = f\"Wish you a very happy rama navami , {full_name.title()}\"\n",
    "print(send_sms)"
   ]
  },
  {
   "cell_type": "code",
   "execution_count": 15,
   "metadata": {},
   "outputs": [
    {
     "name": "stdout",
     "output_type": "stream",
     "text": [
      "Some of the programming languages are: \n",
      "\tJava \n",
      "\tPython \n",
      "\tRuby \n",
      "\tC++ ...etc\n"
     ]
    }
   ],
   "source": [
    "#next line \\n and tab delimiter \\t\n",
    "print('Some of the programming languages are:','\\n\\tJava','\\n\\tPython','\\n\\tRuby','\\n\\tC++','...etc')"
   ]
  },
  {
   "cell_type": "code",
   "execution_count": 16,
   "metadata": {},
   "outputs": [
    {
     "name": "stdout",
     "output_type": "stream",
     "text": [
      "the selected numbers are \n",
      "44 \n",
      "12 \n",
      "98\n"
     ]
    }
   ],
   "source": [
    "#next line\n",
    "print('the selected numbers are','\\n44','\\n12','\\n98')"
   ]
  },
  {
   "cell_type": "code",
   "execution_count": 17,
   "metadata": {},
   "outputs": [
    {
     "name": "stdout",
     "output_type": "stream",
     "text": [
      "firstname =  Monish \n",
      "middle name =  Kumar \n",
      "last name = K\n"
     ]
    }
   ],
   "source": [
    "print ('firstname = ',first_name.title(),'\\nmiddle name = ',middle_name.title(),'\\nlast name =', last_name.title())"
   ]
  },
  {
   "cell_type": "code",
   "execution_count": null,
   "metadata": {},
   "outputs": [],
   "source": []
  },
  {
   "cell_type": "code",
   "execution_count": null,
   "metadata": {},
   "outputs": [],
   "source": []
  },
  {
   "cell_type": "code",
   "execution_count": null,
   "metadata": {},
   "outputs": [],
   "source": []
  },
  {
   "cell_type": "code",
   "execution_count": null,
   "metadata": {},
   "outputs": [],
   "source": []
  }
 ],
 "metadata": {
  "kernelspec": {
   "display_name": "Python 3",
   "language": "python",
   "name": "python3"
  },
  "language_info": {
   "codemirror_mode": {
    "name": "ipython",
    "version": 3
   },
   "file_extension": ".py",
   "mimetype": "text/x-python",
   "name": "python",
   "nbconvert_exporter": "python",
   "pygments_lexer": "ipython3",
   "version": "3.7.6"
  }
 },
 "nbformat": 4,
 "nbformat_minor": 4
}
