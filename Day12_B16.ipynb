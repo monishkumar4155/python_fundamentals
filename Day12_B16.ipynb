{
 "cells": [
  {
   "cell_type": "code",
   "execution_count": 1,
   "metadata": {},
   "outputs": [],
   "source": [
    "num = 10"
   ]
  },
  {
   "cell_type": "code",
   "execution_count": 2,
   "metadata": {},
   "outputs": [
    {
     "name": "stdout",
     "output_type": "stream",
     "text": [
      "10\n",
      "9\n",
      "8\n",
      "7\n",
      "6\n",
      "5\n",
      "4\n",
      "3\n",
      "2\n",
      "1\n"
     ]
    }
   ],
   "source": [
    "while num >= 1:\n",
    "    print(num)\n",
    "    num -=1"
   ]
  },
  {
   "cell_type": "code",
   "execution_count": 8,
   "metadata": {},
   "outputs": [],
   "source": [
    "msg = '\\nIm a repeater'\n",
    "msg += '\\nType exit to quit or anything else to repeat:'"
   ]
  },
  {
   "cell_type": "code",
   "execution_count": 9,
   "metadata": {},
   "outputs": [
    {
     "name": "stdout",
     "output_type": "stream",
     "text": [
      "\n",
      "Im a repeater\n",
      "Type exit to quit or anything else to repeat:Monish\n",
      "Monish\n",
      "\n",
      "Im a repeater\n",
      "Type exit to quit or anything else to repeat:its\n",
      "its\n",
      "\n",
      "Im a repeater\n",
      "Type exit to quit or anything else to repeat:me\n",
      "me\n",
      "\n",
      "Im a repeater\n",
      "Type exit to quit or anything else to repeat:now\n",
      "now\n",
      "\n",
      "Im a repeater\n",
      "Type exit to quit or anything else to repeat:exit\n",
      "exit\n"
     ]
    }
   ],
   "source": [
    "text =''\n",
    "while text !='exit':\n",
    "    text = input(msg)\n",
    "    print(text)"
   ]
  },
  {
   "cell_type": "code",
   "execution_count": 10,
   "metadata": {},
   "outputs": [
    {
     "name": "stdout",
     "output_type": "stream",
     "text": [
      "\n",
      "Type quit to exit. \n",
      "Repeating text:hi\n",
      "hi\n",
      "\n",
      "Type quit to exit. \n",
      "Repeating text:hello\n",
      "hello\n",
      "\n",
      "Type quit to exit. \n",
      "Repeating text:you there\n",
      "you there\n",
      "\n",
      "Type quit to exit. \n",
      "Repeating text:exit\n",
      "exit\n",
      "\n",
      "Type quit to exit. \n",
      "Repeating text:quit\n",
      "quit\n"
     ]
    }
   ],
   "source": [
    "report = '\\nType quit to exit. \\nRepeating text:'\n",
    "\n",
    "inp = ''\n",
    "while inp != 'quit':\n",
    "    inp = input(report)\n",
    "    print(inp)\n"
   ]
  },
  {
   "cell_type": "code",
   "execution_count": 11,
   "metadata": {},
   "outputs": [],
   "source": [
    "#code re usability\n",
    "# functions "
   ]
  },
  {
   "cell_type": "code",
   "execution_count": 17,
   "metadata": {},
   "outputs": [],
   "source": [
    "def greeting():\n",
    "    \"\"\"Here i will be welcoming the user\"\"\"\n",
    "    username = input('Enter your name:')\n",
    "    print(f\"Welcome to the app {username.title()}\")"
   ]
  },
  {
   "cell_type": "code",
   "execution_count": 18,
   "metadata": {},
   "outputs": [
    {
     "name": "stdout",
     "output_type": "stream",
     "text": [
      "Enter your name:monish kumar\n",
      "Welcome to the app Monish Kumar\n"
     ]
    }
   ],
   "source": [
    "greeting()"
   ]
  },
  {
   "cell_type": "code",
   "execution_count": 19,
   "metadata": {},
   "outputs": [
    {
     "name": "stdout",
     "output_type": "stream",
     "text": [
      "Enter your name:rama lakshmana\n",
      "Welcome to the app Rama Lakshmana\n"
     ]
    }
   ],
   "source": [
    "greeting()"
   ]
  },
  {
   "cell_type": "code",
   "execution_count": 20,
   "metadata": {},
   "outputs": [],
   "source": [
    "#dictionary"
   ]
  },
  {
   "cell_type": "code",
   "execution_count": 27,
   "metadata": {},
   "outputs": [
    {
     "name": "stdout",
     "output_type": "stream",
     "text": [
      "CC : 650\n",
      "NAME : Interceptor\n",
      "MAKE : 2020\n",
      "VERSION : 3.0\n",
      "\n",
      "\n",
      "CC :- 650\n",
      "NAME :- INTERCEPTOR\n",
      "MAKE :- 2020\n",
      "VERSION :- 3.0\n",
      "PRICE :- 3,25,000\n"
     ]
    }
   ],
   "source": [
    "re = {'cc':'650','name':'interceptor','make':'2020','version':'3.0'}\n",
    "\n",
    "for x,y in re.items():\n",
    "    print(x.upper(),':',y.title())\n",
    "    \n",
    "re['price'] = '3,25,000'\n",
    "print('\\n')\n",
    "for a,b in re.items():\n",
    "    print(a.upper(),':-',b.upper())"
   ]
  },
  {
   "cell_type": "code",
   "execution_count": 30,
   "metadata": {},
   "outputs": [],
   "source": [
    "#dbs bank\n",
    "def bank():\n",
    "    \"\"\"Welcome user to bank\"\"\"\n",
    "    name = input('Enter your name:')\n",
    "    print('Welcome to DBS bank',name.title())\n",
    "    "
   ]
  },
  {
   "cell_type": "code",
   "execution_count": 31,
   "metadata": {},
   "outputs": [
    {
     "name": "stdout",
     "output_type": "stream",
     "text": [
      "Enter your name:monish kumar\n",
      "Welcome to DBS bank Monish Kumar\n"
     ]
    }
   ],
   "source": [
    "bank()"
   ]
  },
  {
   "cell_type": "code",
   "execution_count": null,
   "metadata": {},
   "outputs": [],
   "source": []
  }
 ],
 "metadata": {
  "kernelspec": {
   "display_name": "Python 3",
   "language": "python",
   "name": "python3"
  },
  "language_info": {
   "codemirror_mode": {
    "name": "ipython",
    "version": 3
   },
   "file_extension": ".py",
   "mimetype": "text/x-python",
   "name": "python",
   "nbconvert_exporter": "python",
   "pygments_lexer": "ipython3",
   "version": "3.7.6"
  }
 },
 "nbformat": 4,
 "nbformat_minor": 4
}
