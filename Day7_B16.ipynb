{
 "cells": [
  {
   "cell_type": "code",
   "execution_count": 9,
   "metadata": {},
   "outputs": [
    {
     "name": "stdout",
     "output_type": "stream",
     "text": [
      "5\n",
      "6\n",
      "7\n",
      "8\n",
      "9\n",
      "10\n",
      "11\n",
      "12\n",
      "13\n",
      "14\n",
      "15\n"
     ]
    }
   ],
   "source": [
    "for x in range(20):\n",
    "    if x >= 5 and x <=15:\n",
    "        print(x)"
   ]
  },
  {
   "cell_type": "code",
   "execution_count": 10,
   "metadata": {},
   "outputs": [
    {
     "name": "stdout",
     "output_type": "stream",
     "text": [
      "['honda', 'ktm', 'kawasaki', 'yamaha', 'tvs']\n",
      "Honda\n",
      "KTM\n",
      "Kawasaki\n",
      "Yamaha\n",
      "TVS\n"
     ]
    }
   ],
   "source": [
    "bikes = ['honda','ktm','kawasaki','yamaha','tvs']\n",
    "print(bikes)\n",
    "for b in bikes:\n",
    "    if b=='ktm' or b=='tvs':\n",
    "        print(b.upper())\n",
    "    else:\n",
    "        print(b.title())"
   ]
  },
  {
   "cell_type": "code",
   "execution_count": 1,
   "metadata": {},
   "outputs": [
    {
     "name": "stdout",
     "output_type": "stream",
     "text": [
      "please enter the message:hello dear\n",
      "the message is: hello dear\n",
      "message sent successfully\n"
     ]
    }
   ],
   "source": [
    "msg = input('please enter the message:')\n",
    "print(f\"the message is: {msg}\")\n",
    "print('message sent successfully')"
   ]
  },
  {
   "cell_type": "code",
   "execution_count": null,
   "metadata": {},
   "outputs": [],
   "source": [
    "#voting application\n",
    "#req: age 18 and above, resident of India"
   ]
  },
  {
   "cell_type": "code",
   "execution_count": null,
   "metadata": {},
   "outputs": [
    {
     "name": "stdout",
     "output_type": "stream",
     "text": [
      "Welcome to Online Voting Portal\n",
      "\n",
      "Please enter your first name:monish\n",
      "\n",
      "Please enter your last name:kumar\n",
      "\n",
      "Please enter your gender:male\n",
      "Please enter your age:23\n"
     ]
    }
   ],
   "source": [
    "print('Welcome to Online Voting Portal')\n",
    "first_name = input('\\nPlease enter your first name:')\n",
    "first_name = str(first_name)\n",
    "last_name = input('\\nPlease enter your last name:')\n",
    "last_name = str(last_name)\n",
    "genger = input('\\nPlease enter your gender:')\n",
    "age = input('Please enter your age:')\n",
    "age = int(age)\n",
    "nationality = input('Please enter your nationality')\n",
    "if age>=18 and nationality == 'Indian' or 'indian':\n",
    "    print(f\"{first_name} {last_name} is eligible to vote\")\n",
    "else:\n",
    "    print(f\"Sorry, {first_name} {last_name} is not eligible to vote\")"
   ]
  },
  {
   "cell_type": "code",
   "execution_count": null,
   "metadata": {},
   "outputs": [],
   "source": []
  },
  {
   "cell_type": "code",
   "execution_count": null,
   "metadata": {},
   "outputs": [],
   "source": []
  },
  {
   "cell_type": "code",
   "execution_count": null,
   "metadata": {},
   "outputs": [],
   "source": []
  },
  {
   "cell_type": "code",
   "execution_count": null,
   "metadata": {},
   "outputs": [],
   "source": []
  },
  {
   "cell_type": "code",
   "execution_count": null,
   "metadata": {},
   "outputs": [],
   "source": []
  },
  {
   "cell_type": "code",
   "execution_count": null,
   "metadata": {},
   "outputs": [],
   "source": []
  },
  {
   "cell_type": "code",
   "execution_count": null,
   "metadata": {},
   "outputs": [],
   "source": []
  },
  {
   "cell_type": "code",
   "execution_count": null,
   "metadata": {},
   "outputs": [],
   "source": []
  },
  {
   "cell_type": "code",
   "execution_count": null,
   "metadata": {},
   "outputs": [],
   "source": []
  },
  {
   "cell_type": "code",
   "execution_count": null,
   "metadata": {},
   "outputs": [],
   "source": []
  },
  {
   "cell_type": "code",
   "execution_count": null,
   "metadata": {},
   "outputs": [],
   "source": []
  },
  {
   "cell_type": "code",
   "execution_count": null,
   "metadata": {},
   "outputs": [],
   "source": []
  },
  {
   "cell_type": "code",
   "execution_count": null,
   "metadata": {},
   "outputs": [],
   "source": []
  },
  {
   "cell_type": "code",
   "execution_count": null,
   "metadata": {},
   "outputs": [],
   "source": []
  },
  {
   "cell_type": "code",
   "execution_count": null,
   "metadata": {},
   "outputs": [],
   "source": []
  },
  {
   "cell_type": "code",
   "execution_count": null,
   "metadata": {},
   "outputs": [],
   "source": []
  },
  {
   "cell_type": "code",
   "execution_count": null,
   "metadata": {},
   "outputs": [],
   "source": []
  }
 ],
 "metadata": {
  "kernelspec": {
   "display_name": "Python 3",
   "language": "python",
   "name": "python3"
  },
  "language_info": {
   "codemirror_mode": {
    "name": "ipython",
    "version": 3
   },
   "file_extension": ".py",
   "mimetype": "text/x-python",
   "name": "python",
   "nbconvert_exporter": "python",
   "pygments_lexer": "ipython3",
   "version": "3.7.6"
  }
 },
 "nbformat": 4,
 "nbformat_minor": 4
}
