{
 "cells": [
  {
   "cell_type": "code",
   "execution_count": 1,
   "metadata": {},
   "outputs": [],
   "source": [
    "#understanding the constructor"
   ]
  },
  {
   "cell_type": "code",
   "execution_count": null,
   "metadata": {},
   "outputs": [],
   "source": [
    "#req:\n",
    "    #create a class of vehicle and initialize the name and type of vehicle in the constructor\n",
    "    #create object and verify the values"
   ]
  },
  {
   "cell_type": "code",
   "execution_count": 4,
   "metadata": {},
   "outputs": [],
   "source": [
    "class Vehicle:\n",
    "    def __init__(self,name,typeofv):\n",
    "        self.name = name\n",
    "        self.typeofv = typeofv\n",
    "        print('Vehicle details initialized')\n",
    "        \n",
    "    def start_vehicle(self):\n",
    "        print(f\"My {self.typeofv} {self.name.title()} is started\")\n",
    "        \n",
    "    def stop_vehicle(self):\n",
    "        print(f\"My {self.typeofv} {self.name.title()} is now stopped\")\n",
    "        \n",
    "    def honk(self):\n",
    "        print(f\"My {self.typeofv} {self.name.title()} is honking now\")\n",
    "        "
   ]
  },
  {
   "cell_type": "code",
   "execution_count": 5,
   "metadata": {},
   "outputs": [
    {
     "name": "stdout",
     "output_type": "stream",
     "text": [
      "Vehicle details initialized\n"
     ]
    }
   ],
   "source": [
    "veh = Vehicle('kia seltos','SUV')"
   ]
  },
  {
   "cell_type": "code",
   "execution_count": 6,
   "metadata": {},
   "outputs": [
    {
     "name": "stdout",
     "output_type": "stream",
     "text": [
      "My SUV Kia Seltos is started\n"
     ]
    }
   ],
   "source": [
    "veh.start_vehicle()"
   ]
  },
  {
   "cell_type": "code",
   "execution_count": 9,
   "metadata": {},
   "outputs": [
    {
     "name": "stdout",
     "output_type": "stream",
     "text": [
      "My SUV Kia Seltos is now stopped\n",
      "My SUV Kia Seltos is honking now\n"
     ]
    }
   ],
   "source": [
    "veh.stop_vehicle()\n",
    "\n",
    "veh.honk()"
   ]
  },
  {
   "cell_type": "code",
   "execution_count": 10,
   "metadata": {},
   "outputs": [
    {
     "name": "stdout",
     "output_type": "stream",
     "text": [
      "Vehicle details initialized\n"
     ]
    }
   ],
   "source": [
    "veh2 = Vehicle('dio','two wheeler')"
   ]
  },
  {
   "cell_type": "code",
   "execution_count": 11,
   "metadata": {},
   "outputs": [
    {
     "name": "stdout",
     "output_type": "stream",
     "text": [
      "My two wheeler Dio is started\n",
      "My two wheeler Dio is now stopped\n",
      "My two wheeler Dio is honking now\n"
     ]
    }
   ],
   "source": [
    "veh2.start_vehicle()\n",
    "\n",
    "veh2.stop_vehicle()\n",
    "\n",
    "veh2.honk()"
   ]
  },
  {
   "cell_type": "code",
   "execution_count": 17,
   "metadata": {},
   "outputs": [],
   "source": [
    "class Mytv:\n",
    "    def __init__(self,tvname,price):\n",
    "        self.tvname = tvname\n",
    "        self.price = price\n",
    "        print('TV details stored')\n",
    "        \n",
    "    def ontv(self):\n",
    "        print(f\"{self.tvname} is switched on\")\n",
    "        \n",
    "    def offtv(self):\n",
    "        print(f\"{self.tvname} is switched off\")\n",
    "        \n",
    "    def tvcost(self):\n",
    "        print(f\"Cost of my {self.tvname} is Rs {self.price}\")"
   ]
  },
  {
   "cell_type": "code",
   "execution_count": 15,
   "metadata": {},
   "outputs": [
    {
     "name": "stdout",
     "output_type": "stream",
     "text": [
      "TV details stored\n"
     ]
    }
   ],
   "source": [
    "tv1 = Mytv('samsung oled tv','229000')"
   ]
  },
  {
   "cell_type": "code",
   "execution_count": 18,
   "metadata": {},
   "outputs": [
    {
     "name": "stdout",
     "output_type": "stream",
     "text": [
      "samsung oled tv is switched on\n",
      "samsung oled tv is switched off\n",
      "Cost of my tv samsung oled tv is Rs 229000\n"
     ]
    }
   ],
   "source": [
    "tv1.ontv()\n",
    "\n",
    "tv1.offtv()\n",
    "\n",
    "tv1.tvcost()"
   ]
  },
  {
   "cell_type": "code",
   "execution_count": null,
   "metadata": {},
   "outputs": [],
   "source": []
  },
  {
   "cell_type": "code",
   "execution_count": 19,
   "metadata": {},
   "outputs": [
    {
     "name": "stdout",
     "output_type": "stream",
     "text": [
      "TV details stored\n"
     ]
    }
   ],
   "source": [
    "tv2 = Mytv('mi tv',39999)"
   ]
  },
  {
   "cell_type": "code",
   "execution_count": 20,
   "metadata": {},
   "outputs": [
    {
     "name": "stdout",
     "output_type": "stream",
     "text": [
      "mi tv is switched on\n",
      "mi tv is switched off\n",
      "Cost of my mi tv is Rs 39999\n"
     ]
    }
   ],
   "source": [
    "tv2.ontv()\n",
    "\n",
    "tv2.offtv()\n",
    "\n",
    "tv2.tvcost()"
   ]
  },
  {
   "cell_type": "code",
   "execution_count": null,
   "metadata": {},
   "outputs": [],
   "source": []
  },
  {
   "cell_type": "code",
   "execution_count": null,
   "metadata": {},
   "outputs": [],
   "source": []
  }
 ],
 "metadata": {
  "kernelspec": {
   "display_name": "Python 3",
   "language": "python",
   "name": "python3"
  },
  "language_info": {
   "codemirror_mode": {
    "name": "ipython",
    "version": 3
   },
   "file_extension": ".py",
   "mimetype": "text/x-python",
   "name": "python",
   "nbconvert_exporter": "python",
   "pygments_lexer": "ipython3",
   "version": "3.7.6"
  }
 },
 "nbformat": 4,
 "nbformat_minor": 4
}
