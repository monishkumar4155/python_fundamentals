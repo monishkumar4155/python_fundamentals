{
 "cells": [
  {
   "cell_type": "code",
   "execution_count": 1,
   "metadata": {},
   "outputs": [
    {
     "name": "stdout",
     "output_type": "stream",
     "text": [
      "['monish', 'manju', 'rakshith', 'amith', 'ashok']\n"
     ]
    }
   ],
   "source": [
    "group = ['monish', 'manju', 'rakshith', 'amith', 'ashok']\n",
    "\n",
    "print(group)"
   ]
  },
  {
   "cell_type": "code",
   "execution_count": 2,
   "metadata": {},
   "outputs": [
    {
     "name": "stdout",
     "output_type": "stream",
     "text": [
      "Amith\n"
     ]
    }
   ],
   "source": [
    "print(group[3].title())"
   ]
  },
  {
   "cell_type": "code",
   "execution_count": 4,
   "metadata": {},
   "outputs": [
    {
     "name": "stdout",
     "output_type": "stream",
     "text": [
      "MONISH\n"
     ]
    }
   ],
   "source": [
    "print(group[0].upper())"
   ]
  },
  {
   "cell_type": "code",
   "execution_count": 9,
   "metadata": {},
   "outputs": [
    {
     "name": "stdout",
     "output_type": "stream",
     "text": [
      "['monish', 'manju', 'rakshith', 'amith', 'ashok', 'siddu']\n"
     ]
    }
   ],
   "source": [
    "group.append('siddu')\n",
    "print(group)"
   ]
  },
  {
   "cell_type": "code",
   "execution_count": 11,
   "metadata": {},
   "outputs": [
    {
     "name": "stdout",
     "output_type": "stream",
     "text": [
      "['monish', 'manju', 'rakshi', 'amith', 'ashok', 'siddu']\n"
     ]
    }
   ],
   "source": [
    "group[2] = 'rakshi'\n",
    "print(group)"
   ]
  },
  {
   "cell_type": "code",
   "execution_count": 12,
   "metadata": {},
   "outputs": [
    {
     "name": "stdout",
     "output_type": "stream",
     "text": [
      "['monish', 'manju', 'rakshi', 'amith', 'gourav', 'ashok', 'siddu']\n"
     ]
    }
   ],
   "source": [
    "group.insert(4,'gourav')\n",
    "print(group)"
   ]
  },
  {
   "cell_type": "code",
   "execution_count": 33,
   "metadata": {},
   "outputs": [
    {
     "name": "stdout",
     "output_type": "stream",
     "text": [
      "Hello Monish how are you\n",
      "\n",
      "Hello Manju how are you\n",
      "\n",
      "Hello Rakshi how are you\n",
      "\n",
      "Hello Amith how are you\n",
      "\n",
      "Hello Gourav how are you\n",
      "\n",
      "Hello Ashok how are you\n",
      "\n",
      "Hello Siddu how are you\n",
      "\n"
     ]
    }
   ],
   "source": [
    "#trying for loop to print all names in the list\n",
    "for x in range(7):\n",
    "    print(f\"Hello {group[x].title()} how are you\\n\")"
   ]
  },
  {
   "cell_type": "code",
   "execution_count": 35,
   "metadata": {},
   "outputs": [
    {
     "name": "stdout",
     "output_type": "stream",
     "text": [
      "['monish', 'manju', 'shiv', 'shiv', 'rakshi', 'amith', 'gourav', 'ashok', 'siddu']\n"
     ]
    }
   ],
   "source": [
    "group.insert(2,'shiv')\n",
    "print(group)"
   ]
  },
  {
   "cell_type": "code",
   "execution_count": 37,
   "metadata": {},
   "outputs": [
    {
     "name": "stdout",
     "output_type": "stream",
     "text": [
      "['monish', 'manju', 'rakshi', 'amith', 'gourav', 'ashok', 'siddu']\n"
     ]
    }
   ],
   "source": [
    "del group[2]\n",
    "print(group)"
   ]
  },
  {
   "cell_type": "code",
   "execution_count": 38,
   "metadata": {},
   "outputs": [
    {
     "name": "stdout",
     "output_type": "stream",
     "text": [
      "['monish', 'manju', 'rakshi', 'amith', 'gourav', 'ashok']\n"
     ]
    }
   ],
   "source": [
    "group.pop()\n",
    "print(group)"
   ]
  },
  {
   "cell_type": "code",
   "execution_count": 39,
   "metadata": {},
   "outputs": [
    {
     "name": "stdout",
     "output_type": "stream",
     "text": [
      "['monish', 'siddu', 'rakshi', 'amith', 'gourav', 'ashok']\n"
     ]
    }
   ],
   "source": [
    "group.pop(1)\n",
    "group.insert(1,'siddu')\n",
    "print(group)"
   ]
  },
  {
   "cell_type": "code",
   "execution_count": 41,
   "metadata": {},
   "outputs": [
    {
     "name": "stdout",
     "output_type": "stream",
     "text": [
      "['monish', 'siddu', 'rakshi', 'amith', 'gourav', 'ashok', {'siddu'}, 'siddu']\n"
     ]
    }
   ],
   "source": [
    "group.append(group[1])\n",
    "print(group)"
   ]
  },
  {
   "cell_type": "code",
   "execution_count": 42,
   "metadata": {},
   "outputs": [
    {
     "data": {
      "text/plain": [
       "list"
      ]
     },
     "execution_count": 42,
     "metadata": {},
     "output_type": "execute_result"
    }
   ],
   "source": [
    "type(group)"
   ]
  },
  {
   "cell_type": "code",
   "execution_count": 47,
   "metadata": {},
   "outputs": [
    {
     "name": "stdout",
     "output_type": "stream",
     "text": [
      "['monish', 'siddu', 'rakshi', 'amith']\n"
     ]
    }
   ],
   "source": [
    "group.pop()\n",
    "group.pop()\n",
    "print(group)"
   ]
  },
  {
   "cell_type": "code",
   "execution_count": 51,
   "metadata": {},
   "outputs": [
    {
     "name": "stdout",
     "output_type": "stream",
     "text": [
      "['monish', 'siddu', 'rakshi', 'amith']\n"
     ]
    }
   ],
   "source": [
    "group2 = group\n",
    "print(group2)"
   ]
  },
  {
   "cell_type": "code",
   "execution_count": 54,
   "metadata": {},
   "outputs": [
    {
     "name": "stdout",
     "output_type": "stream",
     "text": [
      "['a0', 'a1', 'a2']\n"
     ]
    }
   ],
   "source": [
    "group3 = ['a0','a1','a2']\n",
    "print(group3)"
   ]
  },
  {
   "cell_type": "code",
   "execution_count": 56,
   "metadata": {},
   "outputs": [
    {
     "name": "stdout",
     "output_type": "stream",
     "text": [
      "A1\n"
     ]
    }
   ],
   "source": [
    "print(group3[1].title())"
   ]
  },
  {
   "cell_type": "code",
   "execution_count": 57,
   "metadata": {},
   "outputs": [
    {
     "name": "stdout",
     "output_type": "stream",
     "text": [
      "['a0', 'a1', 'a2', '123']\n"
     ]
    }
   ],
   "source": [
    "group3.append('123')\n",
    "print(group3)"
   ]
  },
  {
   "cell_type": "code",
   "execution_count": 58,
   "metadata": {},
   "outputs": [
    {
     "name": "stdout",
     "output_type": "stream",
     "text": [
      "123\n"
     ]
    }
   ],
   "source": [
    "print(group3[3].title())"
   ]
  },
  {
   "cell_type": "code",
   "execution_count": 65,
   "metadata": {},
   "outputs": [
    {
     "name": "stdout",
     "output_type": "stream",
     "text": [
      "You are my bestfriend Monish\n",
      "You are my bestfriend Siddu\n",
      "You are my bestfriend Rakshi\n",
      "You are my bestfriend Amith\n"
     ]
    }
   ],
   "source": [
    "for a in range(4):\n",
    "    print(f\"You are my bestfriend {group2[a].title()}\")"
   ]
  },
  {
   "cell_type": "code",
   "execution_count": null,
   "metadata": {},
   "outputs": [],
   "source": []
  },
  {
   "cell_type": "code",
   "execution_count": null,
   "metadata": {},
   "outputs": [],
   "source": []
  },
  {
   "cell_type": "code",
   "execution_count": null,
   "metadata": {},
   "outputs": [],
   "source": []
  }
 ],
 "metadata": {
  "kernelspec": {
   "display_name": "Python 3",
   "language": "python",
   "name": "python3"
  },
  "language_info": {
   "codemirror_mode": {
    "name": "ipython",
    "version": 3
   },
   "file_extension": ".py",
   "mimetype": "text/x-python",
   "name": "python",
   "nbconvert_exporter": "python",
   "pygments_lexer": "ipython3",
   "version": "3.7.6"
  }
 },
 "nbformat": 4,
 "nbformat_minor": 4
}
