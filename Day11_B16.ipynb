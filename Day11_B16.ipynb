{
 "cells": [
  {
   "cell_type": "code",
   "execution_count": 1,
   "metadata": {},
   "outputs": [
    {
     "name": "stdout",
     "output_type": "stream",
     "text": [
      "{1: 'Monish', 2: 'rakesh', 3: 'ashok', 4: 'anand', 5: 'suresh'}\n"
     ]
    }
   ],
   "source": [
    "employees = {1:'Monish',2:'rakesh',3:'ashok',4:'anand',5:'suresh'}\n",
    "\n",
    "print(employees)"
   ]
  },
  {
   "cell_type": "code",
   "execution_count": 2,
   "metadata": {},
   "outputs": [
    {
     "name": "stdout",
     "output_type": "stream",
     "text": [
      "{1: 'Monish', 2: 'rakesh', 3: 'ashok', 4: 'anand'}\n"
     ]
    }
   ],
   "source": [
    "employees.pop(5)\n",
    "\n",
    "print(employees)"
   ]
  },
  {
   "cell_type": "code",
   "execution_count": 3,
   "metadata": {},
   "outputs": [
    {
     "name": "stdout",
     "output_type": "stream",
     "text": [
      "{1: 'Monish', 2: 'rakesh', 3: 'ashok', 4: 'anand', 5: 'ramesh', 6: 'somesh'}\n"
     ]
    }
   ],
   "source": [
    "employees[5] = 'ramesh'\n",
    "\n",
    "employees[6] = 'somesh'\n",
    "\n",
    "print(employees)"
   ]
  },
  {
   "cell_type": "code",
   "execution_count": 4,
   "metadata": {},
   "outputs": [],
   "source": [
    "del employees[6]"
   ]
  },
  {
   "cell_type": "code",
   "execution_count": 5,
   "metadata": {},
   "outputs": [
    {
     "name": "stdout",
     "output_type": "stream",
     "text": [
      "{1: 'Monish', 2: 'rakesh', 3: 'ashok', 4: 'anand', 5: 'ramesh'}\n"
     ]
    }
   ],
   "source": [
    "print(employees)"
   ]
  },
  {
   "cell_type": "code",
   "execution_count": 9,
   "metadata": {},
   "outputs": [
    {
     "name": "stdout",
     "output_type": "stream",
     "text": [
      "1 :- Monish\n",
      "2 :- rakesh\n",
      "3 :- ashok\n",
      "4 :- anand\n",
      "5 :- ramesh\n"
     ]
    }
   ],
   "source": [
    "for x,y in employees.items():\n",
    "    print(f\"{x} :- {y}\")"
   ]
  },
  {
   "cell_type": "code",
   "execution_count": 10,
   "metadata": {},
   "outputs": [
    {
     "name": "stdout",
     "output_type": "stream",
     "text": [
      "1\n",
      "2\n",
      "3\n",
      "4\n",
      "5\n"
     ]
    }
   ],
   "source": [
    "for a in employees.keys():\n",
    "    print(a)"
   ]
  },
  {
   "cell_type": "code",
   "execution_count": 12,
   "metadata": {},
   "outputs": [
    {
     "name": "stdout",
     "output_type": "stream",
     "text": [
      "Monish\n",
      "Rakesh\n",
      "Ashok\n",
      "Anand\n",
      "Ramesh\n"
     ]
    }
   ],
   "source": [
    "for b in employees.values():\n",
    "    print(b.title())"
   ]
  },
  {
   "cell_type": "code",
   "execution_count": 13,
   "metadata": {},
   "outputs": [
    {
     "name": "stdout",
     "output_type": "stream",
     "text": [
      "{'first': 'pubg', 'second': 'ludo', 'third': '8 ball', 'fourth': 'cod'}\n",
      "{'first': 'pubg', 'second': 'ludo', 'third': '8 ball', 'fourth': 'cod', 'fifth': 'road rash'}\n",
      "{'first': 'pubg', 'second': 'ludo', 'third': '8 ball', 'fourth': 'cod'}\n"
     ]
    }
   ],
   "source": [
    "games = {'first':'pubg','second':'ludo','third':'8 ball','fourth':'cod'}\n",
    "\n",
    "print(games)\n",
    "\n",
    "games['fifth'] = 'road rash'\n",
    "\n",
    "print(games)\n",
    "\n",
    "games.pop('fifth')\n",
    "\n",
    "print(games)"
   ]
  },
  {
   "cell_type": "code",
   "execution_count": 17,
   "metadata": {},
   "outputs": [
    {
     "name": "stdout",
     "output_type": "stream",
     "text": [
      "The games i play are:\n",
      "First Pubg\n",
      "Second Ludo\n",
      "Third 8 Ball\n",
      "Fourth Cod\n"
     ]
    }
   ],
   "source": [
    "print('The games i play are:')\n",
    "for x,y in games.items():\n",
    "    print(x.title(),y.title())"
   ]
  },
  {
   "cell_type": "code",
   "execution_count": 26,
   "metadata": {},
   "outputs": [
    {
     "name": "stdout",
     "output_type": "stream",
     "text": [
      "Second : Ludo\n",
      "Fourth : Call Of Duty\n"
     ]
    }
   ],
   "source": [
    "games['fourth'] = 'call of duty'\n",
    "\n",
    "for x,y in games.items():\n",
    "    if x=='fourth' or x=='second':\n",
    "        print(x.title(),':',y.title())"
   ]
  },
  {
   "cell_type": "code",
   "execution_count": null,
   "metadata": {},
   "outputs": [],
   "source": []
  },
  {
   "cell_type": "code",
   "execution_count": null,
   "metadata": {},
   "outputs": [],
   "source": []
  }
 ],
 "metadata": {
  "kernelspec": {
   "display_name": "Python 3",
   "language": "python",
   "name": "python3"
  },
  "language_info": {
   "codemirror_mode": {
    "name": "ipython",
    "version": 3
   },
   "file_extension": ".py",
   "mimetype": "text/x-python",
   "name": "python",
   "nbconvert_exporter": "python",
   "pygments_lexer": "ipython3",
   "version": "3.7.6"
  }
 },
 "nbformat": 4,
 "nbformat_minor": 4
}
