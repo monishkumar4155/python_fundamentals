{
 "cells": [
  {
   "cell_type": "code",
   "execution_count": 1,
   "metadata": {},
   "outputs": [],
   "source": [
    "#returning a value\n",
    "def send_details(fname,lname):\n",
    "    \"\"\"Sending ser data in an order\"\"\"\n",
    "    fullname = f\"The person name is {fname.title()} {lname.title()}\"\n",
    "    return fullname"
   ]
  },
  {
   "cell_type": "code",
   "execution_count": 2,
   "metadata": {},
   "outputs": [
    {
     "data": {
      "text/plain": [
       "'The person name is Monish Kumar'"
      ]
     },
     "execution_count": 2,
     "metadata": {},
     "output_type": "execute_result"
    }
   ],
   "source": [
    "send_details('monish','kumar')"
   ]
  },
  {
   "cell_type": "code",
   "execution_count": 3,
   "metadata": {},
   "outputs": [
    {
     "name": "stdout",
     "output_type": "stream",
     "text": [
      "The person name is Monish Kumar\n"
     ]
    }
   ],
   "source": [
    "print(send_details('monish','kumar'))"
   ]
  },
  {
   "cell_type": "code",
   "execution_count": 4,
   "metadata": {},
   "outputs": [],
   "source": [
    "def ret_dict(fname,lname,age,loc):\n",
    "    \"\"\"Returning a dictionary\"\"\"\n",
    "    group = {'fname':fname,'lname':lname,'age':age,'location':loc}\n",
    "    for x,y in group.items():\n",
    "        print(x.title(),y.title())"
   ]
  },
  {
   "cell_type": "code",
   "execution_count": 5,
   "metadata": {},
   "outputs": [
    {
     "name": "stdout",
     "output_type": "stream",
     "text": [
      "Fname Monish\n",
      "Lname Kumar\n",
      "Age 23\n",
      "Location Blore\n"
     ]
    }
   ],
   "source": [
    "ret_dict('monish','kumar','23','blore')"
   ]
  },
  {
   "cell_type": "code",
   "execution_count": 6,
   "metadata": {},
   "outputs": [],
   "source": [
    "students = ['monish','ashok','gourav','anand','raghu']"
   ]
  },
  {
   "cell_type": "code",
   "execution_count": 9,
   "metadata": {},
   "outputs": [],
   "source": [
    "def appreciate(name):\n",
    "    \"\"\"appreciating students\"\"\"\n",
    "    #appreciating\n",
    "    for x in name:\n",
    "        print(f\"Congratulations {x.title()}\")"
   ]
  },
  {
   "cell_type": "code",
   "execution_count": 10,
   "metadata": {},
   "outputs": [
    {
     "name": "stdout",
     "output_type": "stream",
     "text": [
      "Congratulations Monish\n",
      "Congratulations Ashok\n",
      "Congratulations Gourav\n",
      "Congratulations Anand\n",
      "Congratulations Raghu\n"
     ]
    }
   ],
   "source": [
    "appreciate(students)"
   ]
  },
  {
   "cell_type": "code",
   "execution_count": null,
   "metadata": {},
   "outputs": [],
   "source": []
  },
  {
   "cell_type": "code",
   "execution_count": null,
   "metadata": {},
   "outputs": [],
   "source": []
  },
  {
   "cell_type": "code",
   "execution_count": null,
   "metadata": {},
   "outputs": [],
   "source": []
  },
  {
   "cell_type": "code",
   "execution_count": null,
   "metadata": {},
   "outputs": [],
   "source": []
  },
  {
   "cell_type": "code",
   "execution_count": null,
   "metadata": {},
   "outputs": [],
   "source": []
  },
  {
   "cell_type": "code",
   "execution_count": null,
   "metadata": {},
   "outputs": [],
   "source": []
  }
 ],
 "metadata": {
  "kernelspec": {
   "display_name": "Python 3",
   "language": "python",
   "name": "python3"
  },
  "language_info": {
   "codemirror_mode": {
    "name": "ipython",
    "version": 3
   },
   "file_extension": ".py",
   "mimetype": "text/x-python",
   "name": "python",
   "nbconvert_exporter": "python",
   "pygments_lexer": "ipython3",
   "version": "3.7.6"
  }
 },
 "nbformat": 4,
 "nbformat_minor": 4
}
